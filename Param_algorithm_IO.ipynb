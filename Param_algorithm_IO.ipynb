{
 "cells": [
  {
   "cell_type": "markdown",
   "id": "ad956236",
   "metadata": {},
   "source": [
    "# Explore ways to read/write params to/from a file\n",
    "\n"
   ]
  },
  {
   "cell_type": "code",
   "execution_count": 1,
   "id": "d245e1e2",
   "metadata": {},
   "outputs": [],
   "source": [
    "from see import base_classes "
   ]
  },
  {
   "cell_type": "code",
   "execution_count": 2,
   "id": "cd6ec603",
   "metadata": {},
   "outputs": [],
   "source": [
    "from see.Segmentors import segmentor\n",
    "from see.ColorSpace import colorspace\n",
    "from see.Workflow import workflow\n",
    "from see.Segment_Fitness import segment_fitness\n",
    "\n",
    "workflow.addalgos([colorspace, segmentor, segment_fitness])\n",
    "wf = workflow()"
   ]
  },
  {
   "cell_type": "markdown",
   "id": "aa19ae5f",
   "metadata": {},
   "source": [
    "----\n",
    "\n",
    "# Use Pickle to wrap entire algorithm object\n",
    "\n",
    "This works nice assuming the algorithm is what we want to write. Dosn't work in the genetic algoirthm since it may just be a list. Although it works fairly well."
   ]
  },
  {
   "cell_type": "code",
   "execution_count": 3,
   "id": "c1d1936e",
   "metadata": {},
   "outputs": [],
   "source": [
    "import pickle \n",
    "def append_algo_pickle(fpop_file, algorithm):\n",
    "    filehandler = open(fpop_file, 'ab') \n",
    "    pickle.dump(algorithm, filehandler)\n",
    "    \n",
    "def read_algo_pickle(fpop_file):\n",
    "    poplist = []\n",
    "    with (open(fpop_file, \"rb\")) as openfile:\n",
    "        while True:\n",
    "            try:\n",
    "                poplist.append(pickle.load(openfile))\n",
    "            except EOFError:\n",
    "                break\n",
    "    return poplist\n",
    "           "
   ]
  },
  {
   "cell_type": "code",
   "execution_count": 4,
   "id": "ecb8c446",
   "metadata": {},
   "outputs": [
    {
     "name": "stderr",
     "output_type": "stream",
     "text": [
      "'rm' is not recognized as an internal or external command,\n",
      "operable program or batch file.\n"
     ]
    }
   ],
   "source": [
    "!rm pickle_test.pk"
   ]
  },
  {
   "cell_type": "code",
   "execution_count": 5,
   "id": "71afa4f0",
   "metadata": {},
   "outputs": [],
   "source": [
    "append_algo_pickle('pickle_test.pk', wf)"
   ]
  },
  {
   "cell_type": "code",
   "execution_count": 6,
   "id": "39da81bb",
   "metadata": {},
   "outputs": [
    {
     "data": {
      "text/plain": [
       "[<see.Workflow.workflow at 0x123ad3e5610>]"
      ]
     },
     "execution_count": 6,
     "metadata": {},
     "output_type": "execute_result"
    }
   ],
   "source": [
    "pop = read_algo_pickle('pickle_test.pk')\n",
    "pop"
   ]
  },
  {
   "cell_type": "code",
   "execution_count": 7,
   "id": "cb475581",
   "metadata": {},
   "outputs": [
    {
     "name": "stderr",
     "output_type": "stream",
     "text": [
      "'cat' is not recognized as an internal or external command,\n",
      "operable program or batch file.\n"
     ]
    }
   ],
   "source": [
    "!cat 'pickle_test.pk'"
   ]
  },
  {
   "cell_type": "markdown",
   "id": "5bf2abd8",
   "metadata": {},
   "source": [
    "---\n",
    "This version just saves the list"
   ]
  },
  {
   "cell_type": "code",
   "execution_count": 8,
   "id": "44cd4c26",
   "metadata": {},
   "outputs": [
    {
     "name": "stderr",
     "output_type": "stream",
     "text": [
      "'rm' is not recognized as an internal or external command,\n",
      "operable program or batch file.\n"
     ]
    }
   ],
   "source": [
    "!rm pickle_test.pk"
   ]
  },
  {
   "cell_type": "code",
   "execution_count": 9,
   "id": "0c367adf",
   "metadata": {},
   "outputs": [],
   "source": [
    "append_algo_pickle('pickle_test.pk', wf.params.tolist())"
   ]
  },
  {
   "cell_type": "code",
   "execution_count": 10,
   "id": "f7bf319a",
   "metadata": {},
   "outputs": [
    {
     "data": {
      "text/plain": [
       "[<see.Workflow.workflow at 0x123ad3e5e20>,\n",
       " ['RGB', True, 2, 'ColorThreshold', 0.3, 0.5, 0.2, 0.7, 0.3, 0.5, 2, 10]]"
      ]
     },
     "execution_count": 10,
     "metadata": {},
     "output_type": "execute_result"
    }
   ],
   "source": [
    "pop = read_algo_pickle('pickle_test.pk')\n",
    "pop"
   ]
  },
  {
   "cell_type": "markdown",
   "id": "1cdcfba9",
   "metadata": {},
   "source": [
    "---\n",
    "\n",
    "# Use JSON\n",
    "\n",
    "Read in as a json file. This also dosn't work as well since we can't append additional values to the list."
   ]
  },
  {
   "cell_type": "code",
   "execution_count": 11,
   "id": "819243cc",
   "metadata": {},
   "outputs": [],
   "source": [
    "import json\n",
    "def append_algo_json(fpop_file, algorithm):\n",
    "    with open('json_test.json', 'w', encoding=\"utf8\") as f:\n",
    "        json.dump(algorithm, f)\n",
    "\n",
    "def read_algo_json(fpop_file):\n",
    "    with open(fpop_file, 'r') as f:\n",
    "        population = json.load(f)\n",
    "    return population"
   ]
  },
  {
   "cell_type": "code",
   "execution_count": 12,
   "id": "d76db8df",
   "metadata": {},
   "outputs": [
    {
     "name": "stderr",
     "output_type": "stream",
     "text": [
      "'rm' is not recognized as an internal or external command,\n",
      "operable program or batch file.\n"
     ]
    }
   ],
   "source": [
    "!rm 'json_test.json'"
   ]
  },
  {
   "cell_type": "code",
   "execution_count": 13,
   "id": "adaf5c94",
   "metadata": {},
   "outputs": [],
   "source": [
    "append_algo_json('json_test.json', wf.params)"
   ]
  },
  {
   "cell_type": "code",
   "execution_count": 14,
   "id": "16057320",
   "metadata": {},
   "outputs": [
    {
     "name": "stderr",
     "output_type": "stream",
     "text": [
      "'cat' is not recognized as an internal or external command,\n",
      "operable program or batch file.\n"
     ]
    }
   ],
   "source": [
    "!cat 'json_test.json'"
   ]
  },
  {
   "cell_type": "code",
   "execution_count": 15,
   "id": "9a09fd02",
   "metadata": {},
   "outputs": [],
   "source": [
    "pop = read_algo_json('json_test.json')"
   ]
  },
  {
   "cell_type": "markdown",
   "id": "4419b164",
   "metadata": {},
   "source": [
    "----\n",
    "\n",
    "# Basic Vector\n",
    "\n",
    "This is a more direct way to write out the list. The nice thing about this format is it is human readable.  Maybe not as flexible but easier to work wiht."
   ]
  },
  {
   "cell_type": "code",
   "execution_count": 16,
   "id": "e18b5aae",
   "metadata": {},
   "outputs": [],
   "source": [
    "def write_algo_vector(fpop_file, algorithm):\n",
    "    with open(f\"{fpop_file}\", 'a') as myfile:\n",
    "        myfile.write(f'{algorithm.params.tolist().__str__()}\\n')\n",
    "        \n",
    "def read_algo_vector(fpop_file):\n",
    "    inlist = []\n",
    "    with open(f\"{fpop_file}\",'r') as myfile:\n",
    "        for line in myfile:\n",
    "            inlist.append(eval(line))\n",
    "    return inlist"
   ]
  },
  {
   "cell_type": "code",
   "execution_count": 17,
   "id": "67481d26",
   "metadata": {},
   "outputs": [
    {
     "name": "stderr",
     "output_type": "stream",
     "text": [
      "'rm' is not recognized as an internal or external command,\n",
      "operable program or batch file.\n"
     ]
    }
   ],
   "source": [
    "!rm 'list_test.txt'"
   ]
  },
  {
   "cell_type": "code",
   "execution_count": 18,
   "id": "15274274",
   "metadata": {},
   "outputs": [],
   "source": [
    "write_algo_vector('list_test.txt', wf)"
   ]
  },
  {
   "cell_type": "code",
   "execution_count": 19,
   "id": "2c4952ba",
   "metadata": {},
   "outputs": [
    {
     "name": "stderr",
     "output_type": "stream",
     "text": [
      "'cat' is not recognized as an internal or external command,\n",
      "operable program or batch file.\n"
     ]
    }
   ],
   "source": [
    "!cat List_test.txt"
   ]
  },
  {
   "cell_type": "code",
   "execution_count": 20,
   "id": "e80518c5",
   "metadata": {},
   "outputs": [
    {
     "data": {
      "text/plain": [
       "[['RGB', True, 2, 'ColorThreshold', 0.3, 0.5, 0.2, 0.7, 0.3, 0.5, 2, 10]]"
      ]
     },
     "execution_count": 20,
     "metadata": {},
     "output_type": "execute_result"
    }
   ],
   "source": [
    "params_as_list = read_algo_vector('list_test.txt')\n",
    "params_as_list"
   ]
  },
  {
   "cell_type": "markdown",
   "id": "eb552fd5",
   "metadata": {},
   "source": [
    "----\n",
    "\n",
    "# Basic Dictionary\n",
    "\n",
    "Same idea as a list but as a dictionary.  Has the same problem as the basic pickle. "
   ]
  },
  {
   "cell_type": "code",
   "execution_count": 21,
   "id": "7f972197",
   "metadata": {},
   "outputs": [],
   "source": [
    "def write_algo_dict(fpop_file, params):\n",
    "    with open(f\"{fpop_file}\", 'a') as myfile:\n",
    "        myfile.write(f'{dict(params).__str__()}\\n')\n",
    "        \n",
    "def read_algo_dict(fpop_file):\n",
    "    inlist = []\n",
    "    with open(f\"{fpop_file}\",'r') as myfile:\n",
    "        for line in myfile:\n",
    "            inlist.append(eval(line))\n",
    "    return inlist"
   ]
  },
  {
   "cell_type": "code",
   "execution_count": 22,
   "id": "454d10c1",
   "metadata": {},
   "outputs": [
    {
     "name": "stderr",
     "output_type": "stream",
     "text": [
      "'rm' is not recognized as an internal or external command,\n",
      "operable program or batch file.\n"
     ]
    }
   ],
   "source": [
    "!rm 'dict_test.txt'"
   ]
  },
  {
   "cell_type": "code",
   "execution_count": 23,
   "id": "f55a94f6",
   "metadata": {},
   "outputs": [],
   "source": [
    "write_algo_dict('dict_test.txt', wf.params)"
   ]
  },
  {
   "cell_type": "code",
   "execution_count": 24,
   "id": "9e8992f5",
   "metadata": {},
   "outputs": [
    {
     "name": "stderr",
     "output_type": "stream",
     "text": [
      "'cat' is not recognized as an internal or external command,\n",
      "operable program or batch file.\n"
     ]
    }
   ],
   "source": [
    "!cat dict_test.txt"
   ]
  },
  {
   "cell_type": "code",
   "execution_count": 25,
   "id": "9297f891",
   "metadata": {},
   "outputs": [
    {
     "data": {
      "text/plain": [
       "[{'colorspace': 'RGB',\n",
       "  'multichannel': True,\n",
       "  'channel': 2,\n",
       "  'algorithm': 'ColorThreshold',\n",
       "  'alpha1': 0.3,\n",
       "  'alpha2': 0.5,\n",
       "  'beta1': 0.2,\n",
       "  'beta2': 0.7,\n",
       "  'gamma1': 0.3,\n",
       "  'gamma2': 0.5,\n",
       "  'n_segments': 2,\n",
       "  'max_iter': 10}]"
      ]
     },
     "execution_count": 25,
     "metadata": {},
     "output_type": "execute_result"
    }
   ],
   "source": [
    "params_as_dict = read_algo_vector('dict_test.txt')\n",
    "params_as_dict"
   ]
  },
  {
   "cell_type": "markdown",
   "id": "8603e308",
   "metadata": {},
   "source": [
    "# Testing in SEE\n"
   ]
  },
  {
   "cell_type": "code",
   "execution_count": 26,
   "id": "7a23a259",
   "metadata": {},
   "outputs": [],
   "source": [
    "from see import base_classes"
   ]
  },
  {
   "cell_type": "code",
   "execution_count": 27,
   "id": "db171b6b",
   "metadata": {},
   "outputs": [],
   "source": [
    "import imageio\n",
    "img = imageio.imread('Image_data/Examples/AA_Chameleon.jpg')\n",
    "gmask = imageio.imread('Image_data/Examples/AA_Chameleon_GT.png')\n",
    "\n",
    "mydata = base_classes.pipedata()"
   ]
  },
  {
   "cell_type": "code",
   "execution_count": 28,
   "id": "bb023ce1",
   "metadata": {
    "scrolled": true
   },
   "outputs": [
    {
     "name": "stdout",
     "output_type": "stream",
     "text": [
      "<class 'see.Workflow.workflow'> parameters: \n",
      "\tcolorspace = RGB\n",
      "\tmultichannel = True\n",
      "\tchannel = 2\n",
      "\talgorithm = ColorThreshold\n",
      "\talpha1 = 0.3\n",
      "\talpha2 = 0.5\n",
      "\tbeta1 = 0.2\n",
      "\tbeta2 = 0.7\n",
      "\tgamma1 = 0.3\n",
      "\tgamma2 = 0.5\n",
      "\tn_segments = 2\n",
      "\tmax_iter = 10\n",
      "\n"
     ]
    }
   ],
   "source": [
    "from see.Segmentors import segmentor\n",
    "from see.ColorSpace import colorspace\n",
    "from see.Workflow import workflow\n",
    "from see.Segment_Fitness import segment_fitness\n",
    "\n",
    "workflow.addalgos([colorspace, segmentor, segment_fitness])\n",
    "wf = workflow()\n",
    "print(wf)"
   ]
  },
  {
   "cell_type": "code",
   "execution_count": 29,
   "id": "bffd2b48",
   "metadata": {},
   "outputs": [],
   "source": [
    "from see import GeneticSearch"
   ]
  },
  {
   "cell_type": "code",
   "execution_count": 30,
   "id": "e4a5776a",
   "metadata": {},
   "outputs": [],
   "source": [
    "my_evolver = GeneticSearch.Evolver(workflow, mydata, pop_size=10)"
   ]
  },
  {
   "cell_type": "code",
   "execution_count": 31,
   "id": "eaedf684",
   "metadata": {},
   "outputs": [],
   "source": [
    "test = my_evolver.newpopulation()"
   ]
  },
  {
   "cell_type": "code",
   "execution_count": 32,
   "id": "9903555f",
   "metadata": {},
   "outputs": [
    {
     "name": "stdout",
     "output_type": "stream",
     "text": [
      "Writing in Dirktest.txt\n",
      "Writing in Dirktest.txt\n",
      "Writing in Dirktest.txt\n",
      "Writing in Dirktest.txt\n",
      "Writing in Dirktest.txt\n",
      "Writing in Dirktest.txt\n",
      "Writing in Dirktest.txt\n",
      "Writing in Dirktest.txt\n",
      "Writing in Dirktest.txt\n",
      "Writing in Dirktest.txt\n"
     ]
    }
   ],
   "source": [
    "for ind in test:\n",
    "    GeneticSearch.write_algo_vector(\"Dirktest.txt\", ind)"
   ]
  },
  {
   "cell_type": "code",
   "execution_count": 33,
   "id": "15ff9d72",
   "metadata": {},
   "outputs": [
    {
     "name": "stdout",
     "output_type": "stream",
     "text": [
      "Reading in Dirktest.txt\n"
     ]
    }
   ],
   "source": [
    "test2 = GeneticSearch.read_algo_vector(\"Dirktest.txt\")\n",
    "test3 = my_evolver.copy_pop_list(test2)"
   ]
  },
  {
   "cell_type": "code",
   "execution_count": 34,
   "id": "0008580b",
   "metadata": {},
   "outputs": [
    {
     "data": {
      "text/plain": [
       "deap.creator.Individual"
      ]
     },
     "execution_count": 34,
     "metadata": {},
     "output_type": "execute_result"
    }
   ],
   "source": [
    "type(test3[0])"
   ]
  },
  {
   "cell_type": "code",
   "execution_count": 35,
   "id": "0e57e3db",
   "metadata": {
    "scrolled": true
   },
   "outputs": [
    {
     "name": "stderr",
     "output_type": "stream",
     "text": [
      "'cat' is not recognized as an internal or external command,\n",
      "operable program or batch file.\n"
     ]
    }
   ],
   "source": [
    "!cat Dirktest.txt\n"
   ]
  },
  {
   "cell_type": "code",
   "execution_count": 36,
   "id": "d790e5f4",
   "metadata": {},
   "outputs": [],
   "source": [
    "from pathlib import Path"
   ]
  },
  {
   "cell_type": "code",
   "execution_count": 37,
   "id": "9363d732",
   "metadata": {},
   "outputs": [],
   "source": [
    "filen = Path('Dirktest.txt')"
   ]
  },
  {
   "cell_type": "code",
   "execution_count": 38,
   "id": "aa6c9238",
   "metadata": {},
   "outputs": [
    {
     "data": {
      "text/plain": [
       "['__bytes__',\n",
       " '__class__',\n",
       " '__class_getitem__',\n",
       " '__delattr__',\n",
       " '__dir__',\n",
       " '__doc__',\n",
       " '__enter__',\n",
       " '__eq__',\n",
       " '__exit__',\n",
       " '__format__',\n",
       " '__fspath__',\n",
       " '__ge__',\n",
       " '__getattribute__',\n",
       " '__gt__',\n",
       " '__hash__',\n",
       " '__init__',\n",
       " '__init_subclass__',\n",
       " '__le__',\n",
       " '__lt__',\n",
       " '__module__',\n",
       " '__ne__',\n",
       " '__new__',\n",
       " '__reduce__',\n",
       " '__reduce_ex__',\n",
       " '__repr__',\n",
       " '__rtruediv__',\n",
       " '__setattr__',\n",
       " '__sizeof__',\n",
       " '__slots__',\n",
       " '__str__',\n",
       " '__subclasshook__',\n",
       " '__truediv__',\n",
       " '_accessor',\n",
       " '_cached_cparts',\n",
       " '_cparts',\n",
       " '_drv',\n",
       " '_flavour',\n",
       " '_format_parsed_parts',\n",
       " '_from_parsed_parts',\n",
       " '_from_parts',\n",
       " '_hash',\n",
       " '_init',\n",
       " '_make_child',\n",
       " '_make_child_relpath',\n",
       " '_opener',\n",
       " '_parse_args',\n",
       " '_parts',\n",
       " '_pparts',\n",
       " '_raw_open',\n",
       " '_root',\n",
       " '_str',\n",
       " 'absolute',\n",
       " 'anchor',\n",
       " 'as_posix',\n",
       " 'as_uri',\n",
       " 'chmod',\n",
       " 'cwd',\n",
       " 'drive',\n",
       " 'exists',\n",
       " 'expanduser',\n",
       " 'glob',\n",
       " 'group',\n",
       " 'home',\n",
       " 'is_absolute',\n",
       " 'is_block_device',\n",
       " 'is_char_device',\n",
       " 'is_dir',\n",
       " 'is_fifo',\n",
       " 'is_file',\n",
       " 'is_mount',\n",
       " 'is_relative_to',\n",
       " 'is_reserved',\n",
       " 'is_socket',\n",
       " 'is_symlink',\n",
       " 'iterdir',\n",
       " 'joinpath',\n",
       " 'lchmod',\n",
       " 'link_to',\n",
       " 'lstat',\n",
       " 'match',\n",
       " 'mkdir',\n",
       " 'name',\n",
       " 'open',\n",
       " 'owner',\n",
       " 'parent',\n",
       " 'parents',\n",
       " 'parts',\n",
       " 'read_bytes',\n",
       " 'read_text',\n",
       " 'readlink',\n",
       " 'relative_to',\n",
       " 'rename',\n",
       " 'replace',\n",
       " 'resolve',\n",
       " 'rglob',\n",
       " 'rmdir',\n",
       " 'root',\n",
       " 'samefile',\n",
       " 'stat',\n",
       " 'stem',\n",
       " 'suffix',\n",
       " 'suffixes',\n",
       " 'symlink_to',\n",
       " 'touch',\n",
       " 'unlink',\n",
       " 'with_name',\n",
       " 'with_stem',\n",
       " 'with_suffix',\n",
       " 'write_bytes',\n",
       " 'write_text']"
      ]
     },
     "execution_count": 38,
     "metadata": {},
     "output_type": "execute_result"
    }
   ],
   "source": [
    "dir(filen)"
   ]
  },
  {
   "cell_type": "code",
   "execution_count": 39,
   "id": "263a7c9a",
   "metadata": {},
   "outputs": [
    {
     "data": {
      "text/plain": [
       "'.txt'"
      ]
     },
     "execution_count": 39,
     "metadata": {},
     "output_type": "execute_result"
    }
   ],
   "source": [
    "filen.suffix"
   ]
  },
  {
   "cell_type": "code",
   "execution_count": null,
   "id": "4aaed9c5",
   "metadata": {},
   "outputs": [],
   "source": []
  },
  {
   "cell_type": "code",
   "execution_count": null,
   "id": "9f97c83d",
   "metadata": {},
   "outputs": [],
   "source": []
  }
 ],
 "metadata": {
  "kernelspec": {
   "display_name": "Python 3 (ipykernel)",
   "language": "python",
   "name": "python3"
  },
  "language_info": {
   "codemirror_mode": {
    "name": "ipython",
    "version": 3
   },
   "file_extension": ".py",
   "mimetype": "text/x-python",
   "name": "python",
   "nbconvert_exporter": "python",
   "pygments_lexer": "ipython3",
   "version": "3.9.6"
  }
 },
 "nbformat": 4,
 "nbformat_minor": 5
}
