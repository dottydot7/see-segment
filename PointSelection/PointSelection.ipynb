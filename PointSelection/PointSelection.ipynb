{
 "cells": [
  {
   "cell_type": "markdown",
   "id": "db3ef99f",
   "metadata": {},
   "source": [
    "## Point Selection"
   ]
  },
  {
   "cell_type": "markdown",
   "id": "53fe4a14",
   "metadata": {},
   "source": [
    "Importing Python libraries:"
   ]
  },
  {
   "cell_type": "code",
   "execution_count": 1,
   "id": "20d3b43a",
   "metadata": {},
   "outputs": [],
   "source": [
    "import cv2\n",
    "import numpy as np\n",
    "import matplotlib.pyplot as plt\n",
    "import matplotlib.image as mpimg\n",
    "import ipywidgets as widgets"
   ]
  },
  {
   "cell_type": "markdown",
   "id": "9c594cc4",
   "metadata": {},
   "source": [
    "Reading image:"
   ]
  },
  {
   "cell_type": "code",
   "execution_count": 2,
   "id": "5993c9fa",
   "metadata": {},
   "outputs": [],
   "source": [
    "# fig = plt.figure(figsize=(50,70))\n",
    "image = cv2.imread('balloonfiesta.jpeg')\n",
    "resized_image = cv2.resize(image, (800,500))\n",
    "circles = np.zeros((4,2), int)\n",
    "counter = 0"
   ]
  },
  {
   "cell_type": "markdown",
   "id": "7b80f974",
   "metadata": {},
   "source": [
    "Function for detecting clicks on image and putting them in circle matrix:"
   ]
  },
  {
   "cell_type": "code",
   "execution_count": 3,
   "id": "61dad57f",
   "metadata": {},
   "outputs": [],
   "source": [
    "def detectPoints(event,x,y,flags,params):\n",
    "    global counter\n",
    "    if event == cv2.EVENT_LBUTTONDOWN:\n",
    "        circles[counter] = x,y\n",
    "        counter = counter + 1\n",
    "        print(circles)\n",
    "        \n",
    "# cid = fig.canvas.mpl_connect('button_press_event', detectPoints)\n",
    "\n",
    "# imgplot = plt.imshow(image)\n",
    "# plt.show()"
   ]
  },
  {
   "cell_type": "markdown",
   "id": "c5d5909d",
   "metadata": {},
   "source": [
    "Perform Template Matching once 4 points has been detected:"
   ]
  },
  {
   "cell_type": "code",
   "execution_count": null,
   "id": "2ae492c6",
   "metadata": {},
   "outputs": [
    {
     "name": "stdout",
     "output_type": "stream",
     "text": [
      "[[157  47]\n",
      " [  0   0]\n",
      " [  0   0]\n",
      " [  0   0]]\n",
      "[[157  47]\n",
      " [215  47]\n",
      " [  0   0]\n",
      " [  0   0]]\n",
      "[[157  47]\n",
      " [215  47]\n",
      " [159 100]\n",
      " [  0   0]]\n",
      "[[157  47]\n",
      " [215  47]\n",
      " [159 100]\n",
      " [215  98]]\n"
     ]
    }
   ],
   "source": [
    "while True:\n",
    "    if counter == 4:\n",
    "        width, height = 250,350\n",
    "        pts1 = np.float32([circles[0],circles[1],circles[2],circles[3]])\n",
    "        pts2 = np.float32([[0,0], [width,0], [0,height], [width,height]])\n",
    "        matrix = cv2.getPerspectiveTransform(pts1,pts2)\n",
    "        imgOutput = cv2.warpPerspective(resized_image,matrix,(width,height))\n",
    "        cv2.imshow(\"Output Image\", imgOutput)\n",
    "        \n",
    "    for x in range(0,4):\n",
    "        cv2.circle(resized_image,(circles[x][0], circles[x][1]),3,(0,255,0),cv2.FILLED)\n",
    "        \n",
    "    cv2.imshow(\"Original\", resized_image)\n",
    "    cv2.setMouseCallback(\"Original\", detectPoints)\n",
    "    cv2.waitKey(1)"
   ]
  }
 ],
 "metadata": {
  "kernelspec": {
   "display_name": "Python 3 (ipykernel)",
   "language": "python",
   "name": "python3"
  },
  "language_info": {
   "codemirror_mode": {
    "name": "ipython",
    "version": 3
   },
   "file_extension": ".py",
   "mimetype": "text/x-python",
   "name": "python",
   "nbconvert_exporter": "python",
   "pygments_lexer": "ipython3",
   "version": "3.9.6"
  }
 },
 "nbformat": 4,
 "nbformat_minor": 5
}
